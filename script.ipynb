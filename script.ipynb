version https://git-lfs.github.com/spec/v1
oid sha256:d182d779530b427ed60082d51c10a47a1c3b7722309b89e688c4d471ce910e3f
size 46078117
